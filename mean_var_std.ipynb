{
 "cells": [
  {
   "cell_type": "code",
   "execution_count": 1,
   "id": "2931a98e-731d-4b66-95b7-1c0b77d579a4",
   "metadata": {},
   "outputs": [],
   "source": [
    "import numpy as np\n",
    "\n",
    "def calculate(lst):\n",
    "    if len(lst) != 9:\n",
    "        raise ValueError(\"List must contain nine numbers.\")\n",
    "\n",
    "    arr = np.array(lst).reshape(3, 3)\n",
    "\n",
    "    results = {\n",
    "        'mean': [arr.mean(axis=0).tolist(), arr.mean(axis=1).tolist(), arr.mean()],\n",
    "        'variance': [arr.var(axis=0).tolist(), arr.var(axis=1).tolist(), arr.var()],\n",
    "        'standard deviation': [arr.std(axis=0).tolist(), arr.std(axis=1).tolist(), arr.std()],\n",
    "        'max': [arr.max(axis=0).tolist(), arr.max(axis=1).tolist(), arr.max()],\n",
    "        'min': [arr.min(axis=0).tolist(), arr.min(axis=1).tolist(), arr.min()],\n",
    "        'sum': [arr.sum(axis=0).tolist(), arr.sum(axis=1).tolist(), arr.sum()]\n",
    "    }\n",
    "\n",
    "    return results\n"
   ]
  },
  {
   "cell_type": "code",
   "execution_count": null,
   "id": "3bd22184-ca90-4d6d-b79c-2418213dc4ca",
   "metadata": {},
   "outputs": [],
   "source": []
  }
 ],
 "metadata": {
  "kernelspec": {
   "display_name": "Python 3 (ipykernel)",
   "language": "python",
   "name": "python3"
  },
  "language_info": {
   "codemirror_mode": {
    "name": "ipython",
    "version": 3
   },
   "file_extension": ".py",
   "mimetype": "text/x-python",
   "name": "python",
   "nbconvert_exporter": "python",
   "pygments_lexer": "ipython3",
   "version": "3.12.2"
  }
 },
 "nbformat": 4,
 "nbformat_minor": 5
}
