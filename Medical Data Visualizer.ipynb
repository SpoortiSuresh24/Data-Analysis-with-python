{
 "cells": [
  {
   "cell_type": "code",
   "execution_count": null,
   "id": "4d5968a0-6b57-41fe-832a-610b5879925d",
   "metadata": {},
   "outputs": [],
   "source": [
    "import pandas as pd\n",
    "import seaborn as sns\n",
    "import matplotlib.pyplot as plt\n",
    "\n",
    "def draw_cat_plot():\n",
    "    # Read data from file\n",
    "    df = pd.read_csv('medical_examination.csv')\n",
    "\n",
    "    # Add 'overweight' column\n",
    "    df['overweight'] = (df['weight'] / ((df['height'] / 100) ** 2) > 25).astype(int)\n",
    "\n",
    "    # Normalize data by making 0 always good and 1 always bad. If the value of cholesterol or gluc is 1, set the value to 0. If the value is more than 1, set the value to 1.\n",
    "    df['cholesterol'] = (df['cholesterol'] > 1).astype(int)\n",
    "    df['gluc'] = (df['gluc'] > 1).astype(int)\n",
    "\n",
    "    # Draw Categorical Plot\n",
    "    df_cat = pd.melt(df, id_vars=['cardio'], value_vars=['cholesterol', 'gluc', 'smoke', 'alco', 'active', 'overweight'])\n",
    "    df_cat['total'] = 1\n",
    "    df_cat = df_cat.groupby(['cardio', 'variable', 'value'], as_index=False).count()\n",
    "\n",
    "    # Draw the Catplot\n",
    "    fig = sns.catplot(data=df_cat, x='variable', y='total', hue='value', col='cardio', kind='bar').fig\n",
    "\n",
    "    # Return the figure\n",
    "    return fig\n",
    "\n",
    "\n",
    "def draw_heat_map():\n",
    "    # Read data from file\n",
    "    df = pd.read_csv('medical_examination.csv')\n",
    "\n",
    "    # Clean the data\n",
    "    df_heat = df[(df['ap_lo'] <= df['ap_hi']) &\n",
    "                 (df['height'] >= df['height'].quantile(0.025)) &\n",
    "                 (df['height'] <= df['height'].quantile(0.975)) &\n",
    "                 (df['weight'] >= df['weight'].quantile(0.025)) &\n",
    "                 (df['weight'] <= df['weight'].quantile(0.975))]\n",
    "\n",
    "    # Calculate the correlation matrix\n",
    "    corr = df_heat.corr()\n",
    "\n",
    "    # Generate a mask for the upper triangle\n",
    "    mask = corr.where(~(abs(corr) < 0.1), True)\n",
    "\n",
    "    # Set up the matplotlib figure\n",
    "    fig, ax = plt.subplots(figsize=(12, 8))\n",
    "\n",
    "    # Draw the heatmap with the mask\n",
    "    sns.heatmap(corr, annot=True, fmt='.1f', cmap='coolwarm', square=True, mask=mask, linewidths=.5, ax=ax)\n",
    "\n",
    "    # Return fig\n",
    "    return fig\n"
   ]
  }
 ],
 "metadata": {
  "kernelspec": {
   "display_name": "Python 3 (ipykernel)",
   "language": "python",
   "name": "python3"
  },
  "language_info": {
   "codemirror_mode": {
    "name": "ipython",
    "version": 3
   },
   "file_extension": ".py",
   "mimetype": "text/x-python",
   "name": "python",
   "nbconvert_exporter": "python",
   "pygments_lexer": "ipython3",
   "version": "3.12.2"
  }
 },
 "nbformat": 4,
 "nbformat_minor": 5
}
